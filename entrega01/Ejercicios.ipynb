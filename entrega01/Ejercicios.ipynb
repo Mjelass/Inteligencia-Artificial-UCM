{
 "cells": [
  {
   "cell_type": "markdown",
   "metadata": {},
   "source": [
    "## Resuelve los siguientes ejercicios en este archivo y entregalo en el campus"
   ]
  },
  {
   "cell_type": "markdown",
   "metadata": {},
   "source": [
    "**_Ejercicio 1_**. Escribe un programa que calcule el volumen de un cono a partir del radio de la base y su altura. \n",
    "\n",
    "Usa la siguiente fórmula:\n",
    "volumen = pi * radio * radio * altura / 3\n",
    "\n",
    "Solicita los valores de radio y altura al usuario.  El valor aproximado de pi es 3.14159.\n",
    "\n"
   ]
  },
  {
   "cell_type": "code",
   "execution_count": 3,
   "metadata": {},
   "outputs": [
    {
     "name": "stdout",
     "output_type": "stream",
     "text": [
      "introduce el radio : 7\n",
      "introduce la altura : 2\n",
      "el volumen del cono es :  102.62536001726657\n"
     ]
    }
   ],
   "source": [
    "# Escribe aquí la solución del ejercicio 1.\n",
    "import math\n",
    "radio = int(input(\"introduce el radio : \"))\n",
    "altura = int(input(\"introduce la altura : \"))\n",
    "volumen = (math.pi * radio * radio * altura) / 3\n",
    "print(\"el volumen del cono es : \", volumen)\n"
   ]
  },
  {
   "cell_type": "markdown",
   "metadata": {},
   "source": [
    "**_Ejercicio 2_**.  Escribe un programa que clasifique los elementos de una lista en positivos y negativos. Los elementos positivos deben añadirse a una lista y los negativos a otra. Si la lista original contiene ceros, se deben ignorar."
   ]
  },
  {
   "cell_type": "code",
   "execution_count": 4,
   "metadata": {},
   "outputs": [
    {
     "name": "stdout",
     "output_type": "stream",
     "text": [
      "Lista Original [7, 6, -9, 234, -4, 0, -7]\n",
      "Positivos [7, 6, 234]\n",
      "Negativos [-9, -4, -7]\n"
     ]
    }
   ],
   "source": [
    "# Escribe aquí la solución del ejercicio 2.\n",
    "#Ejemplo: \n",
    "#lista_original = [7, 6, -9, 234, -4, 0, -7]\n",
    "#Positivos: [7, 6, 234]\n",
    "#Negativos: [-9, -4, -7]\n",
    "\n",
    "lista_original = [7, 6, -9, 234, -4, 0, -7]\n",
    "Positivos = []\n",
    "Negativos = []\n",
    "for num in lista_original:\n",
    "    if num != 0:\n",
    "        if num > 0:\n",
    "            Positivos.append(num)\n",
    "        else:\n",
    "            Negativos.append(num)\n",
    "\n",
    "print(\"Lista Original\",lista_original)\n",
    "print(\"Positivos\",Positivos)\n",
    "print(\"Negativos\", Negativos)"
   ]
  },
  {
   "cell_type": "markdown",
   "metadata": {},
   "source": [
    "**_Ejercicio 3_**.  Escribir una función cuadrados(l) que recibiendo una secuencia l de números, devuelve la lista de los cuadrados de esos números, en el mismo orden. Por ejemplo:\n",
    "\tcuadrados([4,1,5.2,3,8])\n",
    "\t[16, 1, 27.040000000000003, 9, 64]\n",
    "\tHacer dos versiones: una usando un bucle explícito, y la otra mediante definición de listas por comprensión."
   ]
  },
  {
   "cell_type": "code",
   "execution_count": 5,
   "metadata": {},
   "outputs": [
    {
     "name": "stdout",
     "output_type": "stream",
     "text": [
      "Con el primer met [16, 1, 27.040000000000003, 9, 64]\n",
      "Con el segundo met [16, 1, 27.040000000000003, 9, 64]\n"
     ]
    }
   ],
   "source": [
    "# Escribe aquí la solución del ejercicio 3.\n",
    "# Escribir una función cuadrados(l) que recibiendo una secuencia l de números,\n",
    "# devuelve la lista de los cuadrados de esos números, en el mismo orden.\n",
    "\n",
    "\n",
    "# Por ejemplo:\n",
    "# \n",
    "# >>> cuadrados([4,1,5.2,3,8])\n",
    "# [16, 1, 27.040000000000003, 9, 64]\n",
    "\n",
    "# ---------------------------------------------------------------------------\n",
    "def cuadradosComp(l):\n",
    "    a = [ a * a for a in l ]\n",
    "    return a\n",
    "\n",
    "def cuadradosBucl(l):\n",
    "    a = []\n",
    "    for num in l :\n",
    "        a.append(num*num)\n",
    "    return a\n",
    "\n",
    "print(\"Con el primer met\",cuadradosComp([4,1,5.2,3,8]))\n",
    "print(\"Con el segundo met\",cuadradosBucl([4,1,5.2,3,8]))"
   ]
  },
  {
   "cell_type": "code",
   "execution_count": 3,
   "metadata": {},
   "outputs": [
    {
     "data": {
      "text/plain": [
       "3.141592653589793"
      ]
     },
     "execution_count": 3,
     "metadata": {},
     "output_type": "execute_result"
    }
   ],
   "source": [
    "math.pi"
   ]
  },
  {
   "cell_type": "code",
   "execution_count": 5,
   "metadata": {},
   "outputs": [],
   "source": [
    "from math import *"
   ]
  },
  {
   "cell_type": "code",
   "execution_count": 6,
   "metadata": {},
   "outputs": [
    {
     "data": {
      "text/plain": [
       "3.141592653589793"
      ]
     },
     "execution_count": 6,
     "metadata": {},
     "output_type": "execute_result"
    }
   ],
   "source": [
    "pi"
   ]
  },
  {
   "cell_type": "code",
   "execution_count": null,
   "metadata": {},
   "outputs": [],
   "source": []
  }
 ],
 "metadata": {
  "kernelspec": {
   "display_name": "Python 3 (ipykernel)",
   "language": "python",
   "name": "python3"
  },
  "language_info": {
   "codemirror_mode": {
    "name": "ipython",
    "version": 3
   },
   "file_extension": ".py",
   "mimetype": "text/x-python",
   "name": "python",
   "nbconvert_exporter": "python",
   "pygments_lexer": "ipython3",
   "version": "3.9.12"
  }
 },
 "nbformat": 4,
 "nbformat_minor": 2
}
